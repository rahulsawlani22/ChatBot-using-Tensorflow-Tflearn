{
 "cells": [
  {
   "cell_type": "code",
   "execution_count": 48,
   "metadata": {},
   "outputs": [],
   "source": [
    "import tensorflow as tf\n",
    "\n",
    "import random\n",
    "import json\n",
    "import nltk\n",
    "from nltk.stem.lancaster import LancasterStemmer\n",
    "stemmer = LancasterStemmer()\n",
    "import numpy as np"
   ]
  },
  {
   "cell_type": "code",
   "execution_count": 72,
   "metadata": {},
   "outputs": [],
   "source": [
    "with open(\"intents.json\") as file:\n",
    "    data=json.load(file)\n",
    "    "
   ]
  },
  {
   "cell_type": "code",
   "execution_count": 73,
   "metadata": {},
   "outputs": [],
   "source": [
    "words=[]\n",
    "labels=[]\n",
    "docs_x=[]\n",
    "docs_y=[]"
   ]
  },
  {
   "cell_type": "code",
   "execution_count": 74,
   "metadata": {},
   "outputs": [],
   "source": [
    "for intent in data[\"intents\"]:\n",
    "    for pattern in intent[\"patterns\"]:\n",
    "        wrds = nltk.word_tokenize(pattern)\n",
    "        words.extend(wrds)\n",
    "        docs_x.append(wrds)\n",
    "        docs_y.append(intent[\"tag\"])\n",
    "        \n",
    "    if intent[\"tag\"] not in labels:\n",
    "        labels.append(intent[\"tag\"])         "
   ]
  },
  {
   "cell_type": "code",
   "execution_count": 75,
   "metadata": {},
   "outputs": [],
   "source": [
    "words=[stemmer.stem(w.lower()) for w in words if w not in \"?\"]\n",
    "words=sorted(list(set(words)))"
   ]
  },
  {
   "cell_type": "code",
   "execution_count": 76,
   "metadata": {},
   "outputs": [
    {
     "name": "stdout",
     "output_type": "stream",
     "text": [
      "['19', 'a', 'ag', 'am', 'anyon', 'ar', 'buy', 'cal', 'can', 'charg', 'cost', 'could', 'covid', 'covid-19', 'cre', 'cya', 'day', 'develop', 'do', 'due', 'eat', 'fee', 'from', 'funct', 'get', 'good', 'goodby', 'guy', 'hav', 'hello', 'hi', 'hour', 'how', 'i', 'id', 'is', 'lat', 'leav', 'lik', 'mad', 'menu', 'nam', 'of', 'old', 'on', 'op', 'origin', 'pandaem', 'pay', 'perform', 'reccommend', 'sav', 'savi', 'see', 'serv', 'should', 'someth', 'the', 'ther', 'to', 'up', 'us', 'vir', 'what', 'when', 'who', 'yo', 'you']\n"
     ]
    }
   ],
   "source": [
    "labels=sorted(labels)\n",
    "print(words)"
   ]
  },
  {
   "cell_type": "code",
   "execution_count": 77,
   "metadata": {},
   "outputs": [],
   "source": [
    "training=[]\n",
    "output=[]\n",
    "output_empty = [0 for _ in range(len(labels))]\n",
    "for x, doc in enumerate(docs_x):\n",
    "    bag = []\n",
    "    wrds=[stemmer.stem(w.lower()) for w in doc]\n",
    "    for w in words:\n",
    "        if w in wrds:\n",
    "            bag.append(1)\n",
    "        else:\n",
    "            bag.append(0)\n",
    "    \n",
    "    output_row = output_empty[:]\n",
    "    output_row[labels.index(docs_y[x])] = 1\n",
    "    \n",
    "    training.append(bag)\n",
    "    output.append(output_row)\n",
    "    "
   ]
  },
  {
   "cell_type": "code",
   "execution_count": 78,
   "metadata": {},
   "outputs": [],
   "source": [
    "training=np.array(training)\n",
    "output=np.array(output)"
   ]
  },
  {
   "cell_type": "code",
   "execution_count": 79,
   "metadata": {},
   "outputs": [],
   "source": [
    "import tflearn"
   ]
  },
  {
   "cell_type": "code",
   "execution_count": 80,
   "metadata": {},
   "outputs": [],
   "source": [
    "from tensorflow.python.framework import ops\n",
    "ops.reset_default_graph()"
   ]
  },
  {
   "cell_type": "code",
   "execution_count": 81,
   "metadata": {},
   "outputs": [],
   "source": [
    "net=tflearn.input_data(shape=[None,len(training[0])])\n",
    "net=tflearn.fully_connected(net,8)\n",
    "net=tflearn.fully_connected(net,8)\n",
    "net=tflearn.fully_connected(net, len(output[0]), activation=\"softmax\")\n",
    "net=tflearn.regression(net)"
   ]
  },
  {
   "cell_type": "code",
   "execution_count": 82,
   "metadata": {},
   "outputs": [],
   "source": [
    "model=tflearn.DNN(net)"
   ]
  },
  {
   "cell_type": "code",
   "execution_count": 83,
   "metadata": {},
   "outputs": [
    {
     "name": "stdout",
     "output_type": "stream",
     "text": [
      "Training Step: 4999  | total loss: \u001b[1m\u001b[32m0.01916\u001b[0m\u001b[0m | time: 0.019s\n",
      "| Adam | epoch: 1000 | loss: 0.01916 - acc: 0.9996 -- iter: 32/40\n",
      "Training Step: 5000  | total loss: \u001b[1m\u001b[32m0.01882\u001b[0m\u001b[0m | time: 0.023s\n",
      "| Adam | epoch: 1000 | loss: 0.01882 - acc: 0.9996 -- iter: 40/40\n",
      "--\n"
     ]
    }
   ],
   "source": [
    "model.fit(training,output, n_epoch=1000,batch_size=8,show_metric=True)"
   ]
  },
  {
   "cell_type": "code",
   "execution_count": 61,
   "metadata": {},
   "outputs": [
    {
     "name": "stdout",
     "output_type": "stream",
     "text": [
      "INFO:tensorflow:D:\\learn\\ML\\chatbot\\chatbotmodel is not in all_model_checkpoint_paths. Manually adding it.\n"
     ]
    }
   ],
   "source": [
    "model.save(\"chatbotmodel\")"
   ]
  },
  {
   "cell_type": "code",
   "execution_count": 62,
   "metadata": {},
   "outputs": [],
   "source": [
    "def bag_of_words(s,words):\n",
    "    bag = [0 for _ in range(len(words))]\n",
    "    \n",
    "    s_words = nltk.word_tokenize(s)\n",
    "    s_words = [stemmer.stem(w.lower()) for w in s_words]\n",
    "    \n",
    "    for se in s_words:\n",
    "        for i, w in enumerate(words):\n",
    "            if w == se:\n",
    "                bag[i] = 1\n",
    "    return(np.array(bag))"
   ]
  },
  {
   "cell_type": "code",
   "execution_count": 66,
   "metadata": {},
   "outputs": [],
   "source": [
    "def chat():\n",
    "    print(\"Lets start chatting! (Enter quit to close)\")\n",
    "    while True:\n",
    "        \n",
    "        inp=input(\"you: \")\n",
    "        if(inp==\"quit\"):\n",
    "            break\n",
    "        result=model.predict([bag_of_words(inp,words)])[0]\n",
    "        result_index=np.argmax(result)\n",
    "        tag=labels[result_index]\n",
    "        if(result[result_index]>0.8):\n",
    "            for tg in data[\"intents\"]:\n",
    "                if (tg[\"tag\"] == tag):\n",
    "                    response = tg[\"responses\"]\n",
    "            print(random.choice(response))\n",
    "        else:\n",
    "            print(\"I didn't get that, try another question!\")\n"
   ]
  },
  {
   "cell_type": "markdown",
   "metadata": {},
   "source": [
    "chat()"
   ]
  },
  {
   "cell_type": "code",
   "execution_count": 67,
   "metadata": {},
   "outputs": [
    {
     "name": "stdout",
     "output_type": "stream",
     "text": [
      "Lets start chatting! (Enter quit to close)\n",
      "you: hello\n",
      "Hi there, how can I help?\n",
      "you: what can you do\n",
      "I am here to help!\n",
      "you: what kind of help\n",
      "I didn't get that, try another question!\n",
      "you: what are your feautures\n",
      "I didn't get that, try another question!\n",
      "you: what can you do\n",
      "I am here to help!\n",
      "you: what can you operate\n",
      "I am here to help!\n",
      "you: what can you tell\n",
      "I am here to help!\n",
      "you: quit\n"
     ]
    }
   ],
   "source": [
    "chat()"
   ]
  },
  {
   "cell_type": "code",
   "execution_count": null,
   "metadata": {},
   "outputs": [],
   "source": []
  }
 ],
 "metadata": {
  "kernelspec": {
   "display_name": "Python 3",
   "language": "python",
   "name": "python3"
  },
  "language_info": {
   "codemirror_mode": {
    "name": "ipython",
    "version": 3
   },
   "file_extension": ".py",
   "mimetype": "text/x-python",
   "name": "python",
   "nbconvert_exporter": "python",
   "pygments_lexer": "ipython3",
   "version": "3.7.4"
  }
 },
 "nbformat": 4,
 "nbformat_minor": 2
}
